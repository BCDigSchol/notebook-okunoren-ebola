{
 "cells": [
  {
   "cell_type": "markdown",
   "metadata": {},
   "source": [
    "# Merging Newspaper Datasets\n",
    "\n",
    "**Merging script done on behalf of Oladoyin Okunoren @ Boston College**\n",
    "\n",
    "By David J. Thomas\n",
    "\n",
    "Use this script to merge the scraped data from individual news sites"
   ]
  },
  {
   "cell_type": "markdown",
   "metadata": {},
   "source": [
    "#### NOTE: Only run this script once you have run every other noteboke, and the data is located in the `/output` subdirectory"
   ]
  },
  {
   "cell_type": "code",
   "execution_count": 1,
   "metadata": {},
   "outputs": [
    {
     "name": "stdout",
     "output_type": "stream",
     "text": [
      "Success!\n"
     ]
    }
   ],
   "source": [
    "import os\n",
    "import csv\n",
    "\n",
    "INPUT_CSV_FILENAMES = ['sierra_leon_telegraph.csv','awoko_newspaper.csv']\n",
    "OUTPUT_CSV_FILENAME = 'merged_data.csv'\n",
    "CSV_FIELDNAMES = ['title', 'date', 'author', 'column', 'publication', 'link', 'type', 'text']\n",
    "DATA_DIR = os.path.join(os.path.abspath(os.getcwd()), 'output')\n",
    "\n",
    "# read data from each file into imported_Data\n",
    "imported_data = []\n",
    "for input_csv_filename in INPUT_CSV_FILENAMES:\n",
    "    input_filepath = os.path.join(DATA_DIR, input_csv_filename)\n",
    "    with open(input_filepath, 'r+', encoding='utf8') as input_file:\n",
    "        reader = csv.DictReader(input_file, fieldnames=CSV_FIELDNAMES)\n",
    "        # skip the header\n",
    "        next(reader, None)\n",
    "        # append each row\n",
    "        for row in reader:\n",
    "            imported_data.append(row)\n",
    "\n",
    "# export data to the merged file\n",
    "output_filepath = os.path.join(DATA_DIR, OUTPUT_CSV_FILENAME)\n",
    "with open(output_filepath, 'w+', encoding='utf8') as output_file:\n",
    "    writer = csv.DictWriter(output_file, fieldnames=CSV_FIELDNAMES)\n",
    "    writer.writeheader()\n",
    "    for imported_datum in imported_data:\n",
    "        writer.writerow(imported_datum)\n",
    "\n",
    "print('Success!')\n"
   ]
  }
 ],
 "metadata": {
  "kernelspec": {
   "display_name": "ebola",
   "language": "python",
   "name": "python3"
  },
  "language_info": {
   "codemirror_mode": {
    "name": "ipython",
    "version": 3
   },
   "file_extension": ".py",
   "mimetype": "text/x-python",
   "name": "python",
   "nbconvert_exporter": "python",
   "pygments_lexer": "ipython3",
   "version": "3.9.6"
  }
 },
 "nbformat": 4,
 "nbformat_minor": 2
}
