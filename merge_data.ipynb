{
 "cells": [
  {
   "cell_type": "markdown",
   "metadata": {},
   "source": [
    "# Merging Newspaper Datasets\n",
    "\n",
    "**Merging script done on behalf of Oladoyin Okunoren @ Boston College**\n",
    "\n",
    "By David J. Thomas\n",
    "\n",
    "Use this script to merge the scraped data from individual news sites"
   ]
  },
  {
   "cell_type": "markdown",
   "metadata": {},
   "source": [
    "#### NOTE: Only run this script once you have run every other noteboke, and the data is located in the `/output` subdirectory"
   ]
  },
  {
   "cell_type": "code",
   "execution_count": null,
   "metadata": {},
   "outputs": [],
   "source": [
    "import os\n",
    "import csv\n",
    "\n",
    "INPUT_CSV_FILENAMES = ['sierra_leon_telegraph.csv','awoko_newspaper.csv']\n",
    "OUTPUT_CSV_FILENAME = 'merged_data.csv'\n",
    "CSV_FIELDNAMES = ['title', 'date', 'author', 'column', 'publication', 'link', 'text']\n",
    "DATA_DIR = os.path.join(os.path.abspath(os.getcwd()), 'output')\n",
    "\n",
    "# read data from each file into imported_Data\n",
    "imported_data = []\n",
    "for input_csv_filename in INPUT_CSV_FILENAMES:\n",
    "    input_filepath = os.path.join(DATA_DIR, input_csv_filename)\n",
    "    with open(input_filepath, 'r+', encoding='utf8') as input_file:\n",
    "        reader = csv.DictReader(input_file, fieldnames=CSV_FIELDNAMES)\n",
    "        # skip the header\n",
    "        next(reader, None)\n",
    "        # append each row\n",
    "        for row in reader:\n",
    "            imported_data.append(row)\n",
    "\n",
    "# export data to the merged file\n",
    "output_filepath = os.path.join(DATA_DIR, OUTPUT_CSV_FILENAME)\n",
    "with open(output_filepath, 'w+', encoding='utf8') as output_file:\n",
    "    writer = csv.DictWriter(output_filepath, fieldnames=CSV_FIELDNAMES)\n",
    "    writer.writeheader()\n",
    "    for imported_datum in imported_data:\n",
    "        writer.writerow(imported_datum)\n",
    "\n",
    "print('Success!')\n"
   ]
  }
 ],
 "metadata": {
  "language_info": {
   "name": "python"
  }
 },
 "nbformat": 4,
 "nbformat_minor": 2
}
